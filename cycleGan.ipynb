{
 "cells": [
  {
   "cell_type": "code",
   "execution_count": 2,
   "id": "4259195f",
   "metadata": {},
   "outputs": [
    {
     "name": "stdout",
     "output_type": "stream",
     "text": [
      "2.6.0+cu126 12.6\n"
     ]
    }
   ],
   "source": [
    "import torch\n",
    "print(torch.__version__, torch.version.cuda)\n",
    "\n"
   ]
  },
  {
   "cell_type": "markdown",
   "id": "51b21cd2",
   "metadata": {},
   "source": [
    "## Download Datasets :"
   ]
  },
  {
   "cell_type": "code",
   "execution_count": 3,
   "id": "3a4f90ea",
   "metadata": {},
   "outputs": [
    {
     "name": "stdout",
     "output_type": "stream",
     "text": [
      "Téléchargement de horse2zebra.zip …\n",
      "Téléchargement terminé.\n",
      "Suppression de l'ancien dossier datasets\\horse2zebra…\n",
      "Extraction de l'archive…\n",
      "Extraction terminée.\n",
      "Archive supprimée.\n"
     ]
    }
   ],
   "source": [
    "import os\n",
    "import urllib.request\n",
    "import zipfile\n",
    "import shutil\n",
    "\n",
    "\n",
    "dataset     = 'horse2zebra'\n",
    "base_url    = 'http://efrosgans.eecs.berkeley.edu/cyclegan/datasets'\n",
    "datasets_dir= 'datasets'\n",
    "zip_path    = os.path.join(datasets_dir, f'{dataset}.zip')\n",
    "extract_to  = datasets_dir\n",
    "dataset_dir = os.path.join(datasets_dir, dataset)\n",
    "\n",
    "os.makedirs(datasets_dir, exist_ok=True)\n",
    "\n",
    "if not os.path.isfile(zip_path):\n",
    "    print(f\"Téléchargement de {dataset}.zip …\")\n",
    "    urllib.request.urlretrieve(f\"{base_url}/{dataset}.zip\", zip_path)\n",
    "    print(\"Téléchargement terminé.\")\n",
    "else:\n",
    "    print(f\"{zip_path} existe déjà, on réutilise l’archive.\")\n",
    "\n",
    "if os.path.isdir(dataset_dir):\n",
    "    print(f\"Suppression de l'ancien dossier {dataset_dir}…\")\n",
    "    shutil.rmtree(dataset_dir)\n",
    "\n",
    "print(\"Extraction de l'archive…\")\n",
    "with zipfile.ZipFile(zip_path, 'r') as z:\n",
    "    z.extractall(extract_to)\n",
    "print(\"Extraction terminée.\")\n",
    "\n",
    "\n",
    "os.remove(zip_path)\n",
    "print(\"Archive supprimée.\")\n"
   ]
  },
  {
   "cell_type": "markdown",
   "id": "b74d21e6",
   "metadata": {},
   "source": [
    "## Training :"
   ]
  },
  {
   "cell_type": "markdown",
   "id": "84efec5a",
   "metadata": {},
   "source": [
    "### ajouter --no_dropout"
   ]
  },
  {
   "cell_type": "code",
   "execution_count": 5,
   "id": "cf1c6f8b",
   "metadata": {},
   "outputs": [
    {
     "name": "stdout",
     "output_type": "stream",
     "text": [
      "^C\n"
     ]
    }
   ],
   "source": [
    "!python train.py  --dataroot ./datasets/horse2zebra  --name horse2zebra  --gpu_ids 0  --batch_size 1  --image_size 256  --n_epochs 50  --n_epochs_decay 50"
   ]
  },
  {
   "cell_type": "markdown",
   "id": "4b88d5d8",
   "metadata": {},
   "source": [
    "## Testing :"
   ]
  },
  {
   "cell_type": "code",
   "execution_count": 12,
   "id": "2dac7794",
   "metadata": {},
   "outputs": [
    {
     "name": "stdout",
     "output_type": "stream",
     "text": [
      "model_checkpoints\\G_AB_epoch_100.pth\n",
      "📷 Samples saved for epoch 100_test_0 in results\n",
      "📷 Samples saved for epoch 100_test_1 in results\n",
      "📷 Samples saved for epoch 100_test_2 in results\n",
      "📷 Samples saved for epoch 100_test_3 in results\n",
      "📷 Samples saved for epoch 100_test_4 in results\n",
      "📷 Samples saved for epoch 100_test_5 in results\n",
      "📷 Samples saved for epoch 100_test_6 in results\n",
      "📷 Samples saved for epoch 100_test_7 in results\n",
      "📷 Samples saved for epoch 100_test_8 in results\n",
      "📷 Samples saved for epoch 100_test_9 in results\n",
      "📷 Samples saved for epoch 100_test_10 in results\n",
      "📷 Samples saved for epoch 100_test_11 in results\n",
      "📷 Samples saved for epoch 100_test_12 in results\n",
      "📷 Samples saved for epoch 100_test_13 in results\n",
      "📷 Samples saved for epoch 100_test_14 in results\n",
      "📷 Samples saved for epoch 100_test_15 in results\n",
      "📷 Samples saved for epoch 100_test_16 in results\n",
      "📷 Samples saved for epoch 100_test_17 in results\n",
      "📷 Samples saved for epoch 100_test_18 in results\n",
      "📷 Samples saved for epoch 100_test_19 in results\n",
      "📷 Samples saved for epoch 100_test_20 in results\n",
      "📷 Samples saved for epoch 100_test_21 in results\n",
      "📷 Samples saved for epoch 100_test_22 in results\n",
      "📷 Samples saved for epoch 100_test_23 in results\n",
      "📷 Samples saved for epoch 100_test_24 in results\n",
      "📷 Samples saved for epoch 100_test_25 in results\n",
      "📷 Samples saved for epoch 100_test_26 in results\n",
      "📷 Samples saved for epoch 100_test_27 in results\n",
      "📷 Samples saved for epoch 100_test_28 in results\n",
      "📷 Samples saved for epoch 100_test_29 in results\n",
      "📷 Samples saved for epoch 100_test_30 in results\n",
      "📷 Samples saved for epoch 100_test_31 in results\n",
      "📷 Samples saved for epoch 100_test_32 in results\n",
      "📷 Samples saved for epoch 100_test_33 in results\n",
      "📷 Samples saved for epoch 100_test_34 in results\n",
      "📷 Samples saved for epoch 100_test_35 in results\n",
      "📷 Samples saved for epoch 100_test_36 in results\n",
      "📷 Samples saved for epoch 100_test_37 in results\n",
      "📷 Samples saved for epoch 100_test_38 in results\n",
      "📷 Samples saved for epoch 100_test_39 in results\n",
      "📷 Samples saved for epoch 100_test_40 in results\n",
      "📷 Samples saved for epoch 100_test_41 in results\n",
      "📷 Samples saved for epoch 100_test_42 in results\n",
      "📷 Samples saved for epoch 100_test_43 in results\n",
      "📷 Samples saved for epoch 100_test_44 in results\n",
      "📷 Samples saved for epoch 100_test_45 in results\n",
      "📷 Samples saved for epoch 100_test_46 in results\n",
      "📷 Samples saved for epoch 100_test_47 in results\n",
      "📷 Samples saved for epoch 100_test_48 in results\n",
      "📷 Samples saved for epoch 100_test_49 in results\n",
      "📷 Samples saved for epoch 100_test_50 in results\n",
      "📷 Samples saved for epoch 100_test_51 in results\n",
      "📷 Samples saved for epoch 100_test_52 in results\n",
      "📷 Samples saved for epoch 100_test_53 in results\n",
      "📷 Samples saved for epoch 100_test_54 in results\n",
      "📷 Samples saved for epoch 100_test_55 in results\n",
      "📷 Samples saved for epoch 100_test_56 in results\n",
      "📷 Samples saved for epoch 100_test_57 in results\n",
      "📷 Samples saved for epoch 100_test_58 in results\n",
      "📷 Samples saved for epoch 100_test_59 in results\n",
      "📷 Samples saved for epoch 100_test_60 in results\n",
      "📷 Samples saved for epoch 100_test_61 in results\n",
      "📷 Samples saved for epoch 100_test_62 in results\n",
      "📷 Samples saved for epoch 100_test_63 in results\n",
      "📷 Samples saved for epoch 100_test_64 in results\n",
      "📷 Samples saved for epoch 100_test_65 in results\n",
      "📷 Samples saved for epoch 100_test_66 in results\n",
      "📷 Samples saved for epoch 100_test_67 in results\n",
      "📷 Samples saved for epoch 100_test_68 in results\n",
      "📷 Samples saved for epoch 100_test_69 in results\n",
      "📷 Samples saved for epoch 100_test_70 in results\n",
      "📷 Samples saved for epoch 100_test_71 in results\n",
      "📷 Samples saved for epoch 100_test_72 in results\n",
      "📷 Samples saved for epoch 100_test_73 in results\n",
      "📷 Samples saved for epoch 100_test_74 in results\n",
      "📷 Samples saved for epoch 100_test_75 in results\n",
      "📷 Samples saved for epoch 100_test_76 in results\n",
      "📷 Samples saved for epoch 100_test_77 in results\n",
      "📷 Samples saved for epoch 100_test_78 in results\n",
      "📷 Samples saved for epoch 100_test_79 in results\n",
      "📷 Samples saved for epoch 100_test_80 in results\n",
      "📷 Samples saved for epoch 100_test_81 in results\n",
      "📷 Samples saved for epoch 100_test_82 in results\n",
      "📷 Samples saved for epoch 100_test_83 in results\n",
      "📷 Samples saved for epoch 100_test_84 in results\n",
      "📷 Samples saved for epoch 100_test_85 in results\n",
      "📷 Samples saved for epoch 100_test_86 in results\n",
      "📷 Samples saved for epoch 100_test_87 in results\n",
      "📷 Samples saved for epoch 100_test_88 in results\n",
      "📷 Samples saved for epoch 100_test_89 in results\n",
      "📷 Samples saved for epoch 100_test_90 in results\n",
      "📷 Samples saved for epoch 100_test_91 in results\n",
      "📷 Samples saved for epoch 100_test_92 in results\n",
      "📷 Samples saved for epoch 100_test_93 in results\n",
      "📷 Samples saved for epoch 100_test_94 in results\n",
      "📷 Samples saved for epoch 100_test_95 in results\n",
      "📷 Samples saved for epoch 100_test_96 in results\n",
      "📷 Samples saved for epoch 100_test_97 in results\n",
      "📷 Samples saved for epoch 100_test_98 in results\n",
      "📷 Samples saved for epoch 100_test_99 in results\n",
      "📷 Samples saved for epoch 100_test_100 in results\n",
      "📷 Samples saved for epoch 100_test_101 in results\n",
      "📷 Samples saved for epoch 100_test_102 in results\n",
      "📷 Samples saved for epoch 100_test_103 in results\n",
      "📷 Samples saved for epoch 100_test_104 in results\n",
      "📷 Samples saved for epoch 100_test_105 in results\n",
      "📷 Samples saved for epoch 100_test_106 in results\n",
      "📷 Samples saved for epoch 100_test_107 in results\n",
      "📷 Samples saved for epoch 100_test_108 in results\n",
      "📷 Samples saved for epoch 100_test_109 in results\n",
      "📷 Samples saved for epoch 100_test_110 in results\n",
      "📷 Samples saved for epoch 100_test_111 in results\n",
      "📷 Samples saved for epoch 100_test_112 in results\n",
      "📷 Samples saved for epoch 100_test_113 in results\n",
      "📷 Samples saved for epoch 100_test_114 in results\n",
      "📷 Samples saved for epoch 100_test_115 in results\n",
      "📷 Samples saved for epoch 100_test_116 in results\n",
      "📷 Samples saved for epoch 100_test_117 in results\n",
      "📷 Samples saved for epoch 100_test_118 in results\n",
      "📷 Samples saved for epoch 100_test_119 in results\n",
      "📷 Samples saved for epoch 100_test_120 in results\n",
      "📷 Samples saved for epoch 100_test_121 in results\n",
      "📷 Samples saved for epoch 100_test_122 in results\n",
      "📷 Samples saved for epoch 100_test_123 in results\n",
      "📷 Samples saved for epoch 100_test_124 in results\n",
      "📷 Samples saved for epoch 100_test_125 in results\n",
      "📷 Samples saved for epoch 100_test_126 in results\n",
      "📷 Samples saved for epoch 100_test_127 in results\n",
      "📷 Samples saved for epoch 100_test_128 in results\n",
      "📷 Samples saved for epoch 100_test_129 in results\n",
      "📷 Samples saved for epoch 100_test_130 in results\n",
      "📷 Samples saved for epoch 100_test_131 in results\n",
      "📷 Samples saved for epoch 100_test_132 in results\n",
      "📷 Samples saved for epoch 100_test_133 in results\n",
      "📷 Samples saved for epoch 100_test_134 in results\n",
      "📷 Samples saved for epoch 100_test_135 in results\n",
      "📷 Samples saved for epoch 100_test_136 in results\n",
      "📷 Samples saved for epoch 100_test_137 in results\n",
      "📷 Samples saved for epoch 100_test_138 in results\n",
      "📷 Samples saved for epoch 100_test_139 in results\n"
     ]
    }
   ],
   "source": [
    "!python test.py --dataroot ./datasets/horse2zebra --name horse2zebra --gpu_ids 0 --image_size 256 --model_suffix \"\" --epoch 100"
   ]
  },
  {
   "cell_type": "markdown",
   "id": "a870df69",
   "metadata": {},
   "source": [
    "## Evaluation :"
   ]
  },
  {
   "cell_type": "code",
   "execution_count": 19,
   "id": "9295329a",
   "metadata": {},
   "outputs": [
    {
     "name": "stdout",
     "output_type": "stream",
     "text": [
      "\n",
      "✅ Metrics saved to: score/fcn_scores.csv\n",
      "📊 Mean IOU:           0.0983\n",
      "📊 Pixel Accuracy:     0.6707\n",
      "📊 Mean Class-wise IOU:0.0654\n"
     ]
    }
   ],
   "source": [
    "!python evaluate_fcn.py"
   ]
  },
  {
   "cell_type": "markdown",
   "id": "e8767f8f",
   "metadata": {},
   "source": [
    "## Visualisation :"
   ]
  },
  {
   "cell_type": "markdown",
   "id": "d9b61215",
   "metadata": {},
   "source": []
  }
 ],
 "metadata": {
  "kernelspec": {
   "display_name": "cycle_gan",
   "language": "python",
   "name": "python3"
  },
  "language_info": {
   "codemirror_mode": {
    "name": "ipython",
    "version": 3
   },
   "file_extension": ".py",
   "mimetype": "text/x-python",
   "name": "python",
   "nbconvert_exporter": "python",
   "pygments_lexer": "ipython3",
   "version": "3.12.10"
  }
 },
 "nbformat": 4,
 "nbformat_minor": 5
}
